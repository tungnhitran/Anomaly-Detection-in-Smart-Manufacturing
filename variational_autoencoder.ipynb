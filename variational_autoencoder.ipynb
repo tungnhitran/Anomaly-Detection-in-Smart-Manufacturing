{
  "nbformat": 4,
  "nbformat_minor": 0,
  "metadata": {
    "language_info": {
      "codemirror_mode": {
        "name": "ipython",
        "version": 3
      },
      "file_extension": ".py",
      "mimetype": "text/x-python",
      "name": "python",
      "nbconvert_exporter": "python",
      "pygments_lexer": "ipython3",
      "version": "3.9.2-final"
    },
    "orig_nbformat": 2,
    "kernelspec": {
      "name": "python3",
      "display_name": "Python 3.9.2 64-bit ('deeplearning_venv': venv)",
      "metadata": {
        "interpreter": {
          "hash": "9139ca13fc640d8623238ac4ed44beace8a76f86a07bab6efe75c2506e18783d"
        }
      }
    },
    "colab": {
      "name": "Copy of 2021-03-14-tabular-data-variational-autoencoder.ipynb",
      "provenance": [],
      "collapsed_sections": [],
      "include_colab_link": true
    },
    "accelerator": "GPU"
  },
  "cells": [
    {
      "cell_type": "markdown",
      "metadata": {
        "id": "view-in-github",
        "colab_type": "text"
      },
      "source": [
        "<a href=\"https://colab.research.google.com/github/tungnhitran/VAE-Anomaly-Detection-in-Predictive-Maintenance/blob/main/variational_autoencoder.ipynb\" target=\"_parent\"><img src=\"https://colab.research.google.com/assets/colab-badge.svg\" alt=\"Open In Colab\"/></a>"
      ]
    },
    {
      "cell_type": "code",
      "metadata": {
        "id": "F48kSuoYO6Bj"
      },
      "source": [
        "import torch\n",
        "import torch.nn as nn\n",
        "import torch.nn.functional as F\n",
        "from torch import nn, optim\n",
        "from torch.autograd import Variable\n",
        " \n",
        "import pandas as pd\n",
        "import numpy as np\n",
        "from sklearn import preprocessing\n",
        "from sklearn.model_selection import train_test_split"
      ],
      "execution_count": null,
      "outputs": []
    },
    {
      "cell_type": "code",
      "metadata": {
        "id": "saG35lgTO6Bk",
        "colab": {
          "base_uri": "https://localhost:8080/"
        },
        "outputId": "07e70bca-f313-4bd4-9678-a3a3aec9b58b"
      },
      "source": [
        "device = torch.device('cuda' if torch.cuda.is_available() else 'cpu')\n",
        "device"
      ],
      "execution_count": null,
      "outputs": [
        {
          "output_type": "execute_result",
          "data": {
            "text/plain": [
              "device(type='cuda')"
            ]
          },
          "metadata": {},
          "execution_count": 6
        }
      ]
    },
    {
      "cell_type": "code",
      "metadata": {
        "id": "WWd2T9BvO6Bm"
      },
      "source": [
        "TRAIN_PATH = 'dry run.csv'\n",
        "TEST_PATH = 'test_data.csv'"
      ],
      "execution_count": null,
      "outputs": []
    },
    {
      "cell_type": "code",
      "metadata": {
        "id": "kyQ-V5IkO6Bn",
        "colab": {
          "base_uri": "https://localhost:8080/",
          "height": 203
        },
        "outputId": "afedd4ed-5e60-4421-dcb3-1620ce264d7b"
      },
      "source": [
        "df_base = pd.read_csv(TRAIN_PATH, sep=',')\n",
        "cols = df_base.columns\n",
        "cols\n",
        "del df_base['time']\n",
        "\n",
        "df_anomaly = pd.read_csv(TEST_PATH, sep=',')\n",
        "del df_anomaly['time']\n",
        "df_base.head()\n"
      ],
      "execution_count": null,
      "outputs": [
        {
          "output_type": "execute_result",
          "data": {
            "text/html": [
              "<div>\n",
              "<style scoped>\n",
              "    .dataframe tbody tr th:only-of-type {\n",
              "        vertical-align: middle;\n",
              "    }\n",
              "\n",
              "    .dataframe tbody tr th {\n",
              "        vertical-align: top;\n",
              "    }\n",
              "\n",
              "    .dataframe thead th {\n",
              "        text-align: right;\n",
              "    }\n",
              "</style>\n",
              "<table border=\"1\" class=\"dataframe\">\n",
              "  <thead>\n",
              "    <tr style=\"text-align: right;\">\n",
              "      <th></th>\n",
              "      <th>ax</th>\n",
              "      <th>ay</th>\n",
              "      <th>az</th>\n",
              "      <th>aT</th>\n",
              "    </tr>\n",
              "  </thead>\n",
              "  <tbody>\n",
              "    <tr>\n",
              "      <th>0</th>\n",
              "      <td>-0.3246</td>\n",
              "      <td>0.2748</td>\n",
              "      <td>0.1502</td>\n",
              "      <td>0.451</td>\n",
              "    </tr>\n",
              "    <tr>\n",
              "      <th>1</th>\n",
              "      <td>0.6020</td>\n",
              "      <td>-0.1900</td>\n",
              "      <td>-0.3227</td>\n",
              "      <td>0.709</td>\n",
              "    </tr>\n",
              "    <tr>\n",
              "      <th>2</th>\n",
              "      <td>0.9787</td>\n",
              "      <td>0.3258</td>\n",
              "      <td>0.0124</td>\n",
              "      <td>1.032</td>\n",
              "    </tr>\n",
              "    <tr>\n",
              "      <th>3</th>\n",
              "      <td>0.6141</td>\n",
              "      <td>-0.4179</td>\n",
              "      <td>0.0471</td>\n",
              "      <td>0.744</td>\n",
              "    </tr>\n",
              "    <tr>\n",
              "      <th>4</th>\n",
              "      <td>-0.3218</td>\n",
              "      <td>-0.6389</td>\n",
              "      <td>-0.4259</td>\n",
              "      <td>0.833</td>\n",
              "    </tr>\n",
              "  </tbody>\n",
              "</table>\n",
              "</div>"
            ],
            "text/plain": [
              "       ax      ay      az     aT\n",
              "0 -0.3246  0.2748  0.1502  0.451\n",
              "1  0.6020 -0.1900 -0.3227  0.709\n",
              "2  0.9787  0.3258  0.0124  1.032\n",
              "3  0.6141 -0.4179  0.0471  0.744\n",
              "4 -0.3218 -0.6389 -0.4259  0.833"
            ]
          },
          "metadata": {},
          "execution_count": 8
        }
      ]
    },
    {
      "cell_type": "markdown",
      "metadata": {
        "id": "7sxJmav1O6Bo"
      },
      "source": [
        "## Build Data Loader"
      ]
    },
    {
      "cell_type": "code",
      "metadata": {
        "id": "Os_v6B89O6Bo"
      },
      "source": [
        "def load_and_standardize_data(path):\n",
        "    # read in from csv\n",
        "    df = pd.read_csv(path, sep=',')\n",
        "    # replace nan with -99\n",
        "    df = df.fillna(-99)\n",
        "    df = df.values.reshape(-1, df.shape[1]).astype('float32')\n",
        "    # randomly split\n",
        "    X_train, X_test = train_test_split(df, test_size=0.3, random_state=42)\n",
        "    # standardize values\n",
        "    scaler = preprocessing.StandardScaler()\n",
        "    X_train = scaler.fit_transform(X_train)\n",
        "    X_test = scaler.transform(X_test)   \n",
        "    return X_train, X_test, scaler"
      ],
      "execution_count": null,
      "outputs": []
    },
    {
      "cell_type": "code",
      "metadata": {
        "id": "ttSiv3ylO6Bp"
      },
      "source": [
        "from torch.utils.data import Dataset, DataLoader\n",
        "class DataBuilder(Dataset):\n",
        "    def __init__(self, path, train=True):\n",
        "        self.X_train, self.X_test, self.standardizer = load_and_standardize_data(TRAIN_PATH)\n",
        "        if train:\n",
        "            self.x = torch.from_numpy(self.X_train)\n",
        "            self.len=self.x.shape[0]\n",
        "        else:\n",
        "            self.x = torch.from_numpy(self.X_test)\n",
        "            self.len=self.x.shape[0]\n",
        "        del self.X_train\n",
        "        del self.X_test \n",
        "    def __getitem__(self,index):      \n",
        "        return self.x[index]\n",
        "    def __len__(self):\n",
        "        return self.len"
      ],
      "execution_count": null,
      "outputs": []
    },
    {
      "cell_type": "code",
      "metadata": {
        "id": "ZDSlWGqcO6Bp"
      },
      "source": [
        "traindata_set=DataBuilder(TRAIN_PATH, train=True)\n",
        "testdata_set=DataBuilder(TRAIN_PATH, train=False)\n",
        "anomalydata_set=DataBuilder(TEST_PATH,train=True)\n",
        "\n",
        "trainloader=DataLoader(dataset=traindata_set,batch_size=128)\n",
        "testloader=DataLoader(dataset=testdata_set,batch_size=128)\n",
        "anomalyloader=DataLoader(anomalydata_set,batch_size=128)"
      ],
      "execution_count": null,
      "outputs": []
    },
    {
      "cell_type": "code",
      "metadata": {
        "id": "sglQ_Wa_O6Bp",
        "colab": {
          "base_uri": "https://localhost:8080/"
        },
        "outputId": "def09d0b-50ab-4bd5-d6e6-8de5fd352f05"
      },
      "source": [
        "type(trainloader.dataset.x), type(testloader.dataset.x)"
      ],
      "execution_count": null,
      "outputs": [
        {
          "output_type": "execute_result",
          "data": {
            "text/plain": [
              "(torch.Tensor, torch.Tensor)"
            ]
          },
          "metadata": {},
          "execution_count": 12
        }
      ]
    },
    {
      "cell_type": "code",
      "metadata": {
        "id": "cdiiRFjWO6Bq",
        "colab": {
          "base_uri": "https://localhost:8080/"
        },
        "outputId": "e5d77550-5505-47f3-a732-4bad1c1d16f4"
      },
      "source": [
        "trainloader.dataset.x.shape, testloader.dataset.x.shape"
      ],
      "execution_count": null,
      "outputs": [
        {
          "output_type": "execute_result",
          "data": {
            "text/plain": [
              "(torch.Size([4622, 5]), torch.Size([1982, 5]))"
            ]
          },
          "metadata": {},
          "execution_count": 13
        }
      ]
    },
    {
      "cell_type": "code",
      "metadata": {
        "id": "yJ2dXovoO6Bq",
        "colab": {
          "base_uri": "https://localhost:8080/"
        },
        "outputId": "07a5cabe-a30b-473c-bf30-675fb7a4de28"
      },
      "source": [
        "trainloader.dataset.x"
      ],
      "execution_count": null,
      "outputs": [
        {
          "output_type": "execute_result",
          "data": {
            "text/plain": [
              "tensor([[ 0.3910,  1.0411,  1.1225,  1.4695,  0.7925],\n",
              "        [ 0.1313,  1.1235,  0.9828,  0.5512, -0.2227],\n",
              "        [ 0.3081, -0.1503, -0.3431, -0.2122, -1.4265],\n",
              "        ...,\n",
              "        [ 0.9999,  0.7574, -0.1963, -0.0993, -1.2231],\n",
              "        [ 1.0849,  0.2104, -0.7661, -0.3276, -0.8934],\n",
              "        [-1.2956,  0.8494,  0.8129,  1.1837,  0.1546]])"
            ]
          },
          "metadata": {},
          "execution_count": 14
        }
      ]
    },
    {
      "cell_type": "code",
      "metadata": {
        "id": "y7yfnCoAO6Br"
      },
      "source": [
        "class Autoencoder(nn.Module):\n",
        "    def __init__(self,D_in,H,H2,latent_dim=2):\n",
        "        \n",
        "        #Encoder\n",
        "        super(Autoencoder,self).__init__()\n",
        "        self.linear1=nn.Linear(D_in,H)\n",
        "        self.lin_bn1 = nn.BatchNorm1d(num_features=H)\n",
        "        self.linear2=nn.Linear(H,H2)\n",
        "        self.lin_bn2 = nn.BatchNorm1d(num_features=H2)\n",
        "        self.linear3=nn.Linear(H2,H2)\n",
        "        self.lin_bn3 = nn.BatchNorm1d(num_features=H2)\n",
        "        \n",
        "        # Latent vectors mu and sigma\n",
        "        self.fc1 = nn.Linear(H2, latent_dim)\n",
        "        self.bn1 = nn.BatchNorm1d(num_features=latent_dim)\n",
        "        self.fc21 = nn.Linear(latent_dim, latent_dim)\n",
        "        self.fc22 = nn.Linear(latent_dim, latent_dim)\n",
        "\n",
        "        # Sampling vector\n",
        "        self.fc3 = nn.Linear(latent_dim, latent_dim)\n",
        "        self.fc_bn3 = nn.BatchNorm1d(latent_dim)\n",
        "        self.fc4 = nn.Linear(latent_dim, H2)\n",
        "        self.fc_bn4 = nn.BatchNorm1d(H2)\n",
        "        \n",
        "        # Decoder\n",
        "        self.linear4=nn.Linear(H2,H2)\n",
        "        self.lin_bn4 = nn.BatchNorm1d(num_features=H2)\n",
        "        self.linear5=nn.Linear(H2,H)\n",
        "        self.lin_bn5 = nn.BatchNorm1d(num_features=H)\n",
        "        self.linear6=nn.Linear(H,D_in)\n",
        "        self.lin_bn6 = nn.BatchNorm1d(num_features=D_in)\n",
        "        \n",
        "        self.relu = nn.ReLU()\n",
        "        \n",
        "    def encode(self, x):\n",
        "        lin1 = self.relu(self.lin_bn1(self.linear1(x)))\n",
        "        lin2 = self.relu(self.lin_bn2(self.linear2(lin1)))\n",
        "        lin3 = self.relu(self.lin_bn3(self.linear3(lin2)))\n",
        "\n",
        "        fc1 = F.relu(self.bn1(self.fc1(lin3)))\n",
        "\n",
        "        r1 = self.fc21(fc1)\n",
        "        r2 = self.fc22(fc1)\n",
        "        \n",
        "        return r1, r2\n",
        "    \n",
        "    def reparameterize(self, mu, logvar):\n",
        "        if self.training:\n",
        "            std = logvar.mul(0.5).exp_()\n",
        "            eps = Variable(std.data.new(std.size()).normal_())\n",
        "            return eps.mul(std).add_(mu)\n",
        "        else:\n",
        "            return mu\n",
        "        \n",
        "    def decode(self, z):\n",
        "        fc3 = self.relu(self.fc_bn3(self.fc3(z)))\n",
        "        fc4 = self.relu(self.fc_bn4(self.fc4(fc3)))\n",
        "\n",
        "        lin4 = self.relu(self.lin_bn4(self.linear4(fc4)))\n",
        "        lin5 = self.relu(self.lin_bn5(self.linear5(lin4)))\n",
        "        return self.lin_bn6(self.linear6(lin5))\n",
        "\n",
        "\n",
        "        \n",
        "    def forward(self, x):\n",
        "        mu, logvar = self.encode(x)\n",
        "        z = self.reparameterize(mu, logvar)\n",
        "        return self.decode(z), mu, logvar"
      ],
      "execution_count": null,
      "outputs": []
    },
    {
      "cell_type": "code",
      "metadata": {
        "id": "MnypHDAzO6Bs"
      },
      "source": [
        "class customLoss(nn.Module):\n",
        "    def __init__(self):\n",
        "        super(customLoss, self).__init__()\n",
        "        self.mse_loss = nn.MSELoss(reduction=\"sum\")\n",
        "    \n",
        "    def forward(self, x_recon, x, mu, logvar):\n",
        "        loss_MSE = self.mse_loss(x_recon, x)\n",
        "        loss_KLD = -0.5 * torch.sum(1 + logvar - mu.pow(2) - logvar.exp())\n",
        "\n",
        "        return loss_MSE + loss_KLD"
      ],
      "execution_count": null,
      "outputs": []
    },
    {
      "cell_type": "markdown",
      "metadata": {
        "id": "N1vYzJ-AO6Bs"
      },
      "source": [
        "If you want to better understand the variational autoencoder technique, look [here](https://towardsdatascience.com/understanding-variational-autoencoders-vaes-f70510919f73).\n",
        "\n",
        "For better understanding this AutoencoderClass, let me go briefly through it. This is a variational autoencoder (VAE) with two hidden layers, which (by default, but you can change this) 50 and then 12 activations. The latent factors are set to 3 (you can change that, too). So we're first exploding our initially 14 variables to 50 activations, then condensing it to 12, then to 3. From these 3 latent factors we then sample to recreate the original 14 values. We do that by inflating the 3 latent factors back to 12, then 50 and finally 14 activations (we decode the latent factors so to speak). With this reconstructed batch (recon_batch) we compare it with the original batch, computate our loss and adjust the weights and biases via our gradient (our optimizer here will be Adam). "
      ]
    },
    {
      "cell_type": "code",
      "metadata": {
        "id": "mCUVSrtfO6Bt"
      },
      "source": [
        "D_in = traindata_set.x.shape[1]\n",
        "H = 50\n",
        "H2 = 12\n",
        "model = Autoencoder(D_in, H, H2).to(device)\n",
        "optimizer = optim.Adam(model.parameters(), lr=1e-3)"
      ],
      "execution_count": null,
      "outputs": []
    },
    {
      "cell_type": "code",
      "metadata": {
        "id": "aSkKW-dFO6Bt"
      },
      "source": [
        "loss_mse = customLoss()"
      ],
      "execution_count": null,
      "outputs": []
    },
    {
      "cell_type": "markdown",
      "metadata": {
        "id": "w46R0TqdO6Bt"
      },
      "source": [
        "## Train Model"
      ]
    },
    {
      "cell_type": "code",
      "metadata": {
        "id": "_vBaWLPGO6Bt"
      },
      "source": [
        "epochs = 200\n",
        "log_interval = 50\n",
        "val_losses = []\n",
        "train_losses = []\n",
        "test_losses = []"
      ],
      "execution_count": null,
      "outputs": []
    },
    {
      "cell_type": "code",
      "metadata": {
        "id": "QL5xfvnoO6Bu"
      },
      "source": [
        "def train(epoch):\n",
        "    model.train()\n",
        "    train_loss = 0\n",
        "    for batch_idx, data in enumerate(trainloader):\n",
        "        data = data.to(device)\n",
        "        optimizer.zero_grad()\n",
        "        recon_batch, mu, logvar = model(data)\n",
        "        loss = loss_mse(recon_batch, data, mu, logvar)\n",
        "        loss.backward()\n",
        "        train_loss += loss.item()\n",
        "        optimizer.step()\n",
        "    if epoch % 20 == 0:        \n",
        "        print('====> Epoch: {} Average training loss: {:.4f}'.format(\n",
        "            epoch, train_loss / len(trainloader.dataset)))\n",
        "        train_losses.append(train_loss / len(trainloader.dataset))"
      ],
      "execution_count": null,
      "outputs": []
    },
    {
      "cell_type": "code",
      "metadata": {
        "id": "POE6G2-2O6Bu"
      },
      "source": [
        "def test(epoch):\n",
        "    with torch.no_grad():\n",
        "        test_loss = 0\n",
        "        for batch_idx, data in enumerate(testloader):\n",
        "            data = data.to(device)\n",
        "            optimizer.zero_grad()\n",
        "            recon_batch, mu, logvar = model(data)\n",
        "            loss = loss_mse(recon_batch, data, mu, logvar)\n",
        "            test_loss += loss.item()\n",
        "            if epoch % 20 == 0:        \n",
        "                print('====> Epoch: {} Average test loss: {:.4f}'.format(\n",
        "                    epoch, test_loss / len(testloader.dataset)))\n",
        "            test_losses.append(test_loss / len(testloader.dataset))"
      ],
      "execution_count": null,
      "outputs": []
    },
    {
      "cell_type": "code",
      "metadata": {
        "id": "d6WduskBO6Bu",
        "colab": {
          "base_uri": "https://localhost:8080/"
        },
        "outputId": "36a04b53-90c6-4bc7-eace-4f916005b363"
      },
      "source": [
        "for epoch in range(1, epochs + 1):\n",
        "    train(epoch)\n",
        "    test(epoch)"
      ],
      "execution_count": null,
      "outputs": [
        {
          "output_type": "stream",
          "name": "stdout",
          "text": [
            "====> Epoch: 20 Average training loss: 4.2282\n",
            "====> Epoch: 20 Average test loss: 0.2645\n",
            "====> Epoch: 20 Average test loss: 0.5376\n",
            "====> Epoch: 20 Average test loss: 0.8357\n",
            "====> Epoch: 20 Average test loss: 1.1030\n",
            "====> Epoch: 20 Average test loss: 1.3604\n",
            "====> Epoch: 20 Average test loss: 1.6524\n",
            "====> Epoch: 20 Average test loss: 1.9190\n",
            "====> Epoch: 20 Average test loss: 2.1814\n",
            "====> Epoch: 20 Average test loss: 2.4366\n",
            "====> Epoch: 20 Average test loss: 2.7002\n",
            "====> Epoch: 20 Average test loss: 2.9550\n",
            "====> Epoch: 20 Average test loss: 3.2269\n",
            "====> Epoch: 20 Average test loss: 3.5018\n",
            "====> Epoch: 20 Average test loss: 3.7850\n",
            "====> Epoch: 20 Average test loss: 4.0663\n",
            "====> Epoch: 20 Average test loss: 4.1936\n",
            "====> Epoch: 40 Average training loss: 3.8604\n",
            "====> Epoch: 40 Average test loss: 0.2373\n",
            "====> Epoch: 40 Average test loss: 0.4840\n",
            "====> Epoch: 40 Average test loss: 0.7492\n",
            "====> Epoch: 40 Average test loss: 0.9928\n",
            "====> Epoch: 40 Average test loss: 1.2262\n",
            "====> Epoch: 40 Average test loss: 1.4898\n",
            "====> Epoch: 40 Average test loss: 1.7255\n",
            "====> Epoch: 40 Average test loss: 1.9605\n",
            "====> Epoch: 40 Average test loss: 2.1924\n",
            "====> Epoch: 40 Average test loss: 2.4376\n",
            "====> Epoch: 40 Average test loss: 2.6775\n",
            "====> Epoch: 40 Average test loss: 2.9279\n",
            "====> Epoch: 40 Average test loss: 3.1675\n",
            "====> Epoch: 40 Average test loss: 3.4204\n",
            "====> Epoch: 40 Average test loss: 3.6848\n",
            "====> Epoch: 40 Average test loss: 3.8003\n",
            "====> Epoch: 60 Average training loss: 3.7792\n",
            "====> Epoch: 60 Average test loss: 0.2351\n",
            "====> Epoch: 60 Average test loss: 0.4677\n",
            "====> Epoch: 60 Average test loss: 0.7236\n",
            "====> Epoch: 60 Average test loss: 0.9688\n",
            "====> Epoch: 60 Average test loss: 1.2048\n",
            "====> Epoch: 60 Average test loss: 1.4605\n",
            "====> Epoch: 60 Average test loss: 1.7132\n",
            "====> Epoch: 60 Average test loss: 1.9440\n",
            "====> Epoch: 60 Average test loss: 2.1776\n",
            "====> Epoch: 60 Average test loss: 2.4212\n",
            "====> Epoch: 60 Average test loss: 2.6491\n",
            "====> Epoch: 60 Average test loss: 2.9062\n",
            "====> Epoch: 60 Average test loss: 3.1496\n",
            "====> Epoch: 60 Average test loss: 3.3940\n",
            "====> Epoch: 60 Average test loss: 3.6443\n",
            "====> Epoch: 60 Average test loss: 3.7625\n",
            "====> Epoch: 80 Average training loss: 3.7674\n",
            "====> Epoch: 80 Average test loss: 0.2430\n",
            "====> Epoch: 80 Average test loss: 0.4764\n",
            "====> Epoch: 80 Average test loss: 0.7242\n",
            "====> Epoch: 80 Average test loss: 0.9651\n",
            "====> Epoch: 80 Average test loss: 1.2111\n",
            "====> Epoch: 80 Average test loss: 1.4636\n",
            "====> Epoch: 80 Average test loss: 1.7121\n",
            "====> Epoch: 80 Average test loss: 1.9438\n",
            "====> Epoch: 80 Average test loss: 2.1744\n",
            "====> Epoch: 80 Average test loss: 2.4139\n",
            "====> Epoch: 80 Average test loss: 2.6583\n",
            "====> Epoch: 80 Average test loss: 2.9018\n",
            "====> Epoch: 80 Average test loss: 3.1443\n",
            "====> Epoch: 80 Average test loss: 3.4031\n",
            "====> Epoch: 80 Average test loss: 3.6514\n",
            "====> Epoch: 80 Average test loss: 3.7649\n",
            "====> Epoch: 100 Average training loss: 3.7184\n",
            "====> Epoch: 100 Average test loss: 0.2409\n",
            "====> Epoch: 100 Average test loss: 0.4791\n",
            "====> Epoch: 100 Average test loss: 0.7361\n",
            "====> Epoch: 100 Average test loss: 0.9759\n",
            "====> Epoch: 100 Average test loss: 1.2180\n",
            "====> Epoch: 100 Average test loss: 1.4636\n",
            "====> Epoch: 100 Average test loss: 1.7065\n",
            "====> Epoch: 100 Average test loss: 1.9240\n",
            "====> Epoch: 100 Average test loss: 2.1564\n",
            "====> Epoch: 100 Average test loss: 2.3967\n",
            "====> Epoch: 100 Average test loss: 2.6313\n",
            "====> Epoch: 100 Average test loss: 2.8717\n",
            "====> Epoch: 100 Average test loss: 3.1143\n",
            "====> Epoch: 100 Average test loss: 3.3619\n",
            "====> Epoch: 100 Average test loss: 3.6142\n",
            "====> Epoch: 100 Average test loss: 3.7249\n",
            "====> Epoch: 120 Average training loss: 3.7159\n",
            "====> Epoch: 120 Average test loss: 0.2377\n",
            "====> Epoch: 120 Average test loss: 0.4848\n",
            "====> Epoch: 120 Average test loss: 0.7439\n",
            "====> Epoch: 120 Average test loss: 0.9932\n",
            "====> Epoch: 120 Average test loss: 1.2334\n",
            "====> Epoch: 120 Average test loss: 1.4896\n",
            "====> Epoch: 120 Average test loss: 1.7316\n",
            "====> Epoch: 120 Average test loss: 1.9498\n",
            "====> Epoch: 120 Average test loss: 2.1766\n",
            "====> Epoch: 120 Average test loss: 2.4093\n",
            "====> Epoch: 120 Average test loss: 2.6415\n",
            "====> Epoch: 120 Average test loss: 2.8914\n",
            "====> Epoch: 120 Average test loss: 3.1304\n",
            "====> Epoch: 120 Average test loss: 3.3851\n",
            "====> Epoch: 120 Average test loss: 3.6391\n",
            "====> Epoch: 120 Average test loss: 3.7550\n",
            "====> Epoch: 140 Average training loss: 3.7079\n",
            "====> Epoch: 140 Average test loss: 0.2350\n",
            "====> Epoch: 140 Average test loss: 0.4755\n",
            "====> Epoch: 140 Average test loss: 0.7261\n",
            "====> Epoch: 140 Average test loss: 0.9653\n",
            "====> Epoch: 140 Average test loss: 1.2071\n",
            "====> Epoch: 140 Average test loss: 1.4546\n",
            "====> Epoch: 140 Average test loss: 1.6963\n",
            "====> Epoch: 140 Average test loss: 1.9207\n",
            "====> Epoch: 140 Average test loss: 2.1525\n",
            "====> Epoch: 140 Average test loss: 2.3847\n",
            "====> Epoch: 140 Average test loss: 2.6174\n",
            "====> Epoch: 140 Average test loss: 2.8604\n",
            "====> Epoch: 140 Average test loss: 3.1004\n",
            "====> Epoch: 140 Average test loss: 3.3484\n",
            "====> Epoch: 140 Average test loss: 3.5940\n",
            "====> Epoch: 140 Average test loss: 3.7106\n",
            "====> Epoch: 160 Average training loss: 3.7060\n",
            "====> Epoch: 160 Average test loss: 0.2284\n",
            "====> Epoch: 160 Average test loss: 0.4637\n",
            "====> Epoch: 160 Average test loss: 0.7096\n",
            "====> Epoch: 160 Average test loss: 0.9491\n",
            "====> Epoch: 160 Average test loss: 1.1976\n",
            "====> Epoch: 160 Average test loss: 1.4493\n",
            "====> Epoch: 160 Average test loss: 1.6952\n",
            "====> Epoch: 160 Average test loss: 1.9136\n",
            "====> Epoch: 160 Average test loss: 2.1354\n",
            "====> Epoch: 160 Average test loss: 2.3771\n",
            "====> Epoch: 160 Average test loss: 2.6094\n",
            "====> Epoch: 160 Average test loss: 2.8547\n",
            "====> Epoch: 160 Average test loss: 3.0940\n",
            "====> Epoch: 160 Average test loss: 3.3452\n",
            "====> Epoch: 160 Average test loss: 3.5904\n",
            "====> Epoch: 160 Average test loss: 3.7089\n",
            "====> Epoch: 180 Average training loss: 3.7263\n",
            "====> Epoch: 180 Average test loss: 0.2337\n",
            "====> Epoch: 180 Average test loss: 0.4686\n",
            "====> Epoch: 180 Average test loss: 0.7301\n",
            "====> Epoch: 180 Average test loss: 0.9805\n",
            "====> Epoch: 180 Average test loss: 1.2240\n",
            "====> Epoch: 180 Average test loss: 1.4656\n",
            "====> Epoch: 180 Average test loss: 1.7135\n",
            "====> Epoch: 180 Average test loss: 1.9441\n",
            "====> Epoch: 180 Average test loss: 2.1695\n",
            "====> Epoch: 180 Average test loss: 2.4076\n",
            "====> Epoch: 180 Average test loss: 2.6459\n",
            "====> Epoch: 180 Average test loss: 2.8935\n",
            "====> Epoch: 180 Average test loss: 3.1285\n",
            "====> Epoch: 180 Average test loss: 3.3850\n",
            "====> Epoch: 180 Average test loss: 3.6349\n",
            "====> Epoch: 180 Average test loss: 3.7466\n",
            "====> Epoch: 200 Average training loss: 3.6951\n",
            "====> Epoch: 200 Average test loss: 0.2438\n",
            "====> Epoch: 200 Average test loss: 0.4865\n",
            "====> Epoch: 200 Average test loss: 0.7393\n",
            "====> Epoch: 200 Average test loss: 0.9830\n",
            "====> Epoch: 200 Average test loss: 1.2226\n",
            "====> Epoch: 200 Average test loss: 1.4701\n",
            "====> Epoch: 200 Average test loss: 1.7130\n",
            "====> Epoch: 200 Average test loss: 1.9343\n",
            "====> Epoch: 200 Average test loss: 2.1641\n",
            "====> Epoch: 200 Average test loss: 2.4077\n",
            "====> Epoch: 200 Average test loss: 2.6431\n",
            "====> Epoch: 200 Average test loss: 2.8880\n",
            "====> Epoch: 200 Average test loss: 3.1241\n",
            "====> Epoch: 200 Average test loss: 3.3773\n",
            "====> Epoch: 200 Average test loss: 3.6201\n",
            "====> Epoch: 200 Average test loss: 3.7331\n"
          ]
        }
      ]
    },
    {
      "cell_type": "code",
      "metadata": {
        "id": "58f4B39mO6Bv"
      },
      "source": [
        "with torch.no_grad():\n",
        "    for batch_idx, data in enumerate(testloader):\n",
        "        data = data.to(device)\n",
        "        optimizer.zero_grad()\n",
        "        recon_batch, mu, logvar = model(data)"
      ],
      "execution_count": null,
      "outputs": []
    },
    {
      "cell_type": "code",
      "metadata": {
        "id": "LPCsce9CO6Bv",
        "colab": {
          "base_uri": "https://localhost:8080/"
        },
        "outputId": "1b2ec7fe-c55f-41c3-facc-2f86f299b285"
      },
      "source": [
        "scaler = trainloader.dataset.standardizer\n",
        "recon_row = scaler.inverse_transform(recon_batch[0].cpu().numpy())\n",
        "real_row = scaler.inverse_transform(testloader.dataset.x[0].cpu().numpy())\n",
        "print(real_row)"
      ],
      "execution_count": null,
      "outputs": [
        {
          "output_type": "stream",
          "name": "stdout",
          "text": [
            "[14.843   0.4923  1.033   0.1377  1.153 ]\n"
          ]
        }
      ]
    },
    {
      "cell_type": "code",
      "metadata": {
        "id": "cY9x7r00O6Bv",
        "colab": {
          "base_uri": "https://localhost:8080/",
          "height": 110
        },
        "outputId": "4253dd64-b02e-41c4-f344-0df204ab5ab8"
      },
      "source": [
        "df = pd.DataFrame(np.stack((recon_row, real_row)), columns = cols)\n",
        "df"
      ],
      "execution_count": null,
      "outputs": [
        {
          "output_type": "execute_result",
          "data": {
            "text/html": [
              "<div>\n",
              "<style scoped>\n",
              "    .dataframe tbody tr th:only-of-type {\n",
              "        vertical-align: middle;\n",
              "    }\n",
              "\n",
              "    .dataframe tbody tr th {\n",
              "        vertical-align: top;\n",
              "    }\n",
              "\n",
              "    .dataframe thead th {\n",
              "        text-align: right;\n",
              "    }\n",
              "</style>\n",
              "<table border=\"1\" class=\"dataframe\">\n",
              "  <thead>\n",
              "    <tr style=\"text-align: right;\">\n",
              "      <th></th>\n",
              "      <th>time</th>\n",
              "      <th>ax</th>\n",
              "      <th>ay</th>\n",
              "      <th>az</th>\n",
              "      <th>aT</th>\n",
              "    </tr>\n",
              "  </thead>\n",
              "  <tbody>\n",
              "    <tr>\n",
              "      <th>0</th>\n",
              "      <td>29.998652</td>\n",
              "      <td>0.087614</td>\n",
              "      <td>0.029141</td>\n",
              "      <td>-0.067593</td>\n",
              "      <td>0.788637</td>\n",
              "    </tr>\n",
              "    <tr>\n",
              "      <th>1</th>\n",
              "      <td>14.843000</td>\n",
              "      <td>0.492300</td>\n",
              "      <td>1.033000</td>\n",
              "      <td>0.137700</td>\n",
              "      <td>1.153000</td>\n",
              "    </tr>\n",
              "  </tbody>\n",
              "</table>\n",
              "</div>"
            ],
            "text/plain": [
              "        time        ax        ay        az        aT\n",
              "0  29.998652  0.087614  0.029141 -0.067593  0.788637\n",
              "1  14.843000  0.492300  1.033000  0.137700  1.153000"
            ]
          },
          "metadata": {},
          "execution_count": 25
        }
      ]
    },
    {
      "cell_type": "code",
      "metadata": {
        "id": "e9eL7qanO6Bw"
      },
      "source": [
        "sigma = torch.exp(logvar/2)"
      ],
      "execution_count": null,
      "outputs": []
    },
    {
      "cell_type": "code",
      "metadata": {
        "id": "Y3Fso1xrO6Bw",
        "colab": {
          "base_uri": "https://localhost:8080/"
        },
        "outputId": "f4f76cbb-506c-4d37-db8d-64499c6227f0"
      },
      "source": [
        "mu[1], sigma[1]"
      ],
      "execution_count": null,
      "outputs": [
        {
          "output_type": "execute_result",
          "data": {
            "text/plain": [
              "(tensor([ 0.0077, -1.2706], device='cuda:0'),\n",
              " tensor([0.9993, 0.3363], device='cuda:0'))"
            ]
          },
          "metadata": {},
          "execution_count": 27
        }
      ]
    },
    {
      "cell_type": "code",
      "metadata": {
        "id": "acOgFMyjO6Bx",
        "colab": {
          "base_uri": "https://localhost:8080/"
        },
        "outputId": "cf158101-d482-4f29-c0ba-4845585e9d9b"
      },
      "source": [
        "mu.mean(axis=0), sigma.mean(axis=0)"
      ],
      "execution_count": null,
      "outputs": [
        {
          "output_type": "execute_result",
          "data": {
            "text/plain": [
              "(tensor([0.0007, 0.0092], device='cuda:0'),\n",
              " tensor([0.9990, 0.3566], device='cuda:0'))"
            ]
          },
          "metadata": {},
          "execution_count": 28
        }
      ]
    },
    {
      "cell_type": "code",
      "metadata": {
        "id": "S9Oqb15zO6Bx",
        "colab": {
          "base_uri": "https://localhost:8080/"
        },
        "outputId": "b6d68af9-ac95-4f95-e3b4-fe9506f4e4db"
      },
      "source": [
        "# sample z from q\n",
        "no_samples = traindata_set.x.shape[0]\n",
        "q = torch.distributions.Normal(mu.mean(axis=0), sigma.mean(axis=0))\n",
        "z = q.rsample(sample_shape=torch.Size([no_samples]))\n",
        "print(no_samples)"
      ],
      "execution_count": null,
      "outputs": [
        {
          "output_type": "stream",
          "name": "stdout",
          "text": [
            "4622\n"
          ]
        }
      ]
    },
    {
      "cell_type": "code",
      "metadata": {
        "id": "avNM6aXlO6By",
        "colab": {
          "base_uri": "https://localhost:8080/"
        },
        "outputId": "d8499b05-6aec-4078-8921-0d1eb1428b34"
      },
      "source": [
        "z.shape"
      ],
      "execution_count": null,
      "outputs": [
        {
          "output_type": "execute_result",
          "data": {
            "text/plain": [
              "torch.Size([4622, 2])"
            ]
          },
          "metadata": {},
          "execution_count": 30
        }
      ]
    },
    {
      "cell_type": "code",
      "metadata": {
        "id": "qp0v60HLO6By",
        "colab": {
          "base_uri": "https://localhost:8080/"
        },
        "outputId": "af223b5c-de5e-45fc-a3a9-0b56a8f90282"
      },
      "source": [
        "z[:5]"
      ],
      "execution_count": null,
      "outputs": [
        {
          "output_type": "execute_result",
          "data": {
            "text/plain": [
              "tensor([[ 1.6702,  0.1200],\n",
              "        [-0.4516,  0.1900],\n",
              "        [ 0.4871,  0.0086],\n",
              "        [-2.1263,  0.2678],\n",
              "        [-0.3308, -0.3156]], device='cuda:0')"
            ]
          },
          "metadata": {},
          "execution_count": 31
        }
      ]
    },
    {
      "cell_type": "code",
      "metadata": {
        "id": "0oAeKed2O6Bz"
      },
      "source": [
        "with torch.no_grad():\n",
        "    pred = model.decode(z).cpu().numpy()"
      ],
      "execution_count": null,
      "outputs": []
    },
    {
      "cell_type": "code",
      "metadata": {
        "id": "lsohZZqdO6B0",
        "colab": {
          "base_uri": "https://localhost:8080/"
        },
        "outputId": "ce417d6f-4bb7-4716-bf5c-0c17b6f277a3"
      },
      "source": [
        "pred[1]"
      ],
      "execution_count": null,
      "outputs": [
        {
          "output_type": "execute_result",
          "data": {
            "text/plain": [
              "array([-0.09934235,  0.5321117 ,  0.64761573,  0.20795664, -0.34611413],\n",
              "      dtype=float32)"
            ]
          },
          "metadata": {},
          "execution_count": 33
        }
      ]
    },
    {
      "cell_type": "code",
      "metadata": {
        "id": "x6pa3DLpO6B1",
        "colab": {
          "base_uri": "https://localhost:8080/"
        },
        "outputId": "9d0d803a-93f1-49de-d413-5df1658fa91d"
      },
      "source": [
        "fake_data = scaler.inverse_transform(pred)\n",
        "fake_data.shape"
      ],
      "execution_count": null,
      "outputs": [
        {
          "output_type": "execute_result",
          "data": {
            "text/plain": [
              "(4622, 5)"
            ]
          },
          "metadata": {},
          "execution_count": 34
        }
      ]
    },
    {
      "cell_type": "code",
      "metadata": {
        "id": "0lpQNtWyO6B1",
        "colab": {
          "base_uri": "https://localhost:8080/"
        },
        "outputId": "4d206d5d-7f08-40c8-9657-eb6ec682d179"
      },
      "source": [
        "df_fake = pd.DataFrame(fake_data, columns = cols)\n",
        "df_fake['time'] = np.round(df_fake['time']).astype(int)\n",
        "#df_fake['time'] = np.where(df_fake['time']<1, 1, df_fake['time'])\n",
        "print(df_fake)\n",
        "df_fake.to_csv('fake.csv')"
      ],
      "execution_count": null,
      "outputs": [
        {
          "output_type": "stream",
          "name": "stdout",
          "text": [
            "      time        ax        ay        az        aT\n",
            "0       31  0.197441  0.238622  0.014365  0.912715\n",
            "1       31  0.338270  0.523044  0.106282  1.071723\n",
            "2       30  0.061207 -0.015579 -0.079240  0.823674\n",
            "3       33  0.436639  0.688422  0.207337  1.202315\n",
            "4       35 -0.465837 -0.615207 -0.673676  1.263743\n",
            "...    ...       ...       ...       ...       ...\n",
            "4617    36  0.582693  0.883618  0.473752  1.490480\n",
            "4618    31  0.024764 -0.040416 -0.146738  0.834721\n",
            "4619    36  0.583659  0.548244  1.390502  1.977449\n",
            "4620    31 -0.013189 -0.134117 -0.139786  0.834939\n",
            "4621    31  0.107516  0.094563 -0.074430  0.865624\n",
            "\n",
            "[4622 rows x 5 columns]\n"
          ]
        }
      ]
    },
    {
      "cell_type": "markdown",
      "metadata": {
        "id": "wItt0TZlO6B2"
      },
      "source": [
        "For comparison the real data:"
      ]
    },
    {
      "cell_type": "code",
      "metadata": {
        "colab": {
          "base_uri": "https://localhost:8080/"
        },
        "id": "FUlLZZGGJuCN",
        "outputId": "ebc5bc62-cfe3-4012-a136-9096af0808cf"
      },
      "source": [
        "#generate from anomaly data\n",
        "with torch.no_grad():\n",
        "    for batch_idx, data in enumerate(anomalyloader):\n",
        "        data = data.to(device)\n",
        "        optimizer.zero_grad()\n",
        "        recon_batch, mu, logvar = model(data)\n",
        "\n",
        "scaler = anomalyloader.dataset.standardizer\n",
        "recon_test_row = scaler.inverse_transform(recon_batch[0].cpu().numpy())\n",
        "sigma = torch.exp(logvar/2)\n",
        "\n",
        "no_samples_test = df_anomaly.shape[0]\n",
        "q = torch.distributions.Normal(mu.mean(axis=0), sigma.mean(axis=0))\n",
        "z = q.rsample(sample_shape=torch.Size([no_samples_test]))\n",
        "print(no_samples_test)"
      ],
      "execution_count": null,
      "outputs": [
        {
          "output_type": "stream",
          "name": "stdout",
          "text": [
            "29224\n"
          ]
        }
      ]
    },
    {
      "cell_type": "code",
      "metadata": {
        "colab": {
          "base_uri": "https://localhost:8080/"
        },
        "id": "wp6zpdIr8VDW",
        "outputId": "a4cb85d7-178e-4596-bf13-78be195e8400"
      },
      "source": [
        "z.shape"
      ],
      "execution_count": null,
      "outputs": [
        {
          "output_type": "execute_result",
          "data": {
            "text/plain": [
              "torch.Size([29224, 2])"
            ]
          },
          "metadata": {},
          "execution_count": 37
        }
      ]
    },
    {
      "cell_type": "code",
      "metadata": {
        "colab": {
          "base_uri": "https://localhost:8080/"
        },
        "id": "HXYWuCqmhbTs",
        "outputId": "49ba852b-e41b-45d7-d865-b34ff612b762"
      },
      "source": [
        "with torch.no_grad():\n",
        "    pred_test = model.decode(z).cpu().numpy()\n",
        "fake_data_test = scaler.inverse_transform(pred_test)\n",
        "\n",
        "df_fake_test = pd.DataFrame(fake_data_test, columns = cols)\n",
        "df_fake_test['time'] = np.round(df_fake_test['time']).astype(int)\n",
        "#df_fake_test['time'] = np.where(df_fake_test['time']<1, 1, df_fake_test['time'])\n",
        "del df_fake_test['time']\n",
        "print(df_fake_test)"
      ],
      "execution_count": null,
      "outputs": [
        {
          "output_type": "stream",
          "name": "stdout",
          "text": [
            "             ax        ay        az        aT\n",
            "0      0.575444  0.110038  3.175564  3.346946\n",
            "1      0.391271  0.609004  0.151937  1.133889\n",
            "2     -0.212289 -0.406150 -0.342882  0.961295\n",
            "3     -0.092752 -0.197173 -0.293937  0.935848\n",
            "4     -0.011454 -0.103941 -0.182523  0.840272\n",
            "...         ...       ...       ...       ...\n",
            "29219 -0.251613 -0.448805 -0.388939  0.986673\n",
            "29220 -0.836800 -0.855298 -1.209944  1.848542\n",
            "29221  0.017254 -0.063133 -0.146929  0.834483\n",
            "29222  0.114969  0.104149 -0.072868  0.871952\n",
            "29223  0.546512  0.185186  2.584267  2.840847\n",
            "\n",
            "[29224 rows x 4 columns]\n"
          ]
        }
      ]
    },
    {
      "cell_type": "code",
      "metadata": {
        "colab": {
          "base_uri": "https://localhost:8080/"
        },
        "id": "Ofv7FjxZh6Cg",
        "outputId": "ba2910b8-a6d4-4a7f-c63b-086799c93d0a"
      },
      "source": [
        "#reconstruction error test data\n",
        "#del df_fake_test['time']\n",
        "mse_test = ((df_anomaly-df_fake_test)**2).max(axis=1)\n",
        "print(mse_test)\n",
        "mse_test.to_csv('mse_test.csv')"
      ],
      "execution_count": null,
      "outputs": [
        {
          "output_type": "stream",
          "name": "stdout",
          "text": [
            "0        11.727641\n",
            "1         1.321036\n",
            "2         0.474559\n",
            "3         0.347660\n",
            "4         0.370085\n",
            "           ...    \n",
            "29219     1.344641\n",
            "29220    16.899041\n",
            "29221     2.616361\n",
            "29222     2.532717\n",
            "29223    20.238901\n",
            "Length: 29224, dtype: float64\n"
          ]
        }
      ]
    },
    {
      "cell_type": "code",
      "metadata": {
        "colab": {
          "base_uri": "https://localhost:8080/"
        },
        "id": "JnrpvYFFiR-h",
        "outputId": "b3ff8f04-2d55-4029-b7f2-64221bd04635"
      },
      "source": [
        "#reconstruction error train data\n",
        "#del df_base['time']\n",
        "#del df_fake['time']\n",
        "mse = ((df_base[0:4622]-df_fake)**2).mean(axis=1)\n",
        "print(mse)\n",
        "mse.to_csv('mse.csv')"
      ],
      "execution_count": null,
      "outputs": [
        {
          "output_type": "stream",
          "name": "stdout",
          "text": [
            "0       0.126367\n",
            "1       0.223395\n",
            "2       0.252533\n",
            "3       0.372792\n",
            "4       0.067060\n",
            "          ...   \n",
            "4617    1.055836\n",
            "4618    0.854574\n",
            "4619    1.464029\n",
            "4620    3.105731\n",
            "4621    0.214447\n",
            "Length: 4622, dtype: float64\n"
          ]
        }
      ]
    },
    {
      "cell_type": "code",
      "metadata": {
        "colab": {
          "base_uri": "https://localhost:8080/"
        },
        "id": "93_uSPIfmjjL",
        "outputId": "7443d266-e011-426e-b927-536c779f8ec0"
      },
      "source": [
        "#threshold = np.quantile(mse,0.9)\n",
        "threshold = mse.mean()\n",
        "print(threshold)"
      ],
      "execution_count": null,
      "outputs": [
        {
          "output_type": "stream",
          "name": "stdout",
          "text": [
            "0.916231494643133\n"
          ]
        }
      ]
    },
    {
      "cell_type": "code",
      "metadata": {
        "colab": {
          "base_uri": "https://localhost:8080/",
          "height": 444
        },
        "id": "aGDyT6N35Gh5",
        "outputId": "b5829d31-2a4c-4de0-ceeb-20d26601f7b2"
      },
      "source": [
        "import matplotlib.pyplot as plt\n",
        "from matplotlib.pyplot import figure\n",
        "\n",
        "figure(figsize=(8, 6), dpi=80)\n",
        "plt.plot(mse[0:100],'go',label='healthy')\n",
        "plt.plot(mse_test[0:100],'rs',label='anomaly')\n",
        "plt.axhline(y=threshold,color='r', linestyle='-',label='threshold')\n",
        "plt.legend()\n",
        "plt.xlabel(\"Observations\")\n",
        "plt.ylabel(\"Anomaly Score\")\n",
        "plt.title('Anomaly Detection Results')\n",
        "plt.savefig('AD.pdf')\n",
        "plt.show()\n"
      ],
      "execution_count": null,
      "outputs": [
        {
          "output_type": "display_data",
          "data": {
            "image/png": "[encoded data removed]",
            "text/plain": [
              "<Figure size 640x480 with 1 Axes>"
            ]
          },
          "metadata": {
            "needs_background": "light"
          }
        }
      ]
    }
  ]
}