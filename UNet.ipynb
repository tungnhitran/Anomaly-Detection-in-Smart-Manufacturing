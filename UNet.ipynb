{
  "nbformat": 4,
  "nbformat_minor": 0,
  "metadata": {
    "colab": {
      "provenance": [],
      "authorship_tag": "ABX9TyOu1YQXh0TvReGlXSWWnzp3",
      "include_colab_link": true
    },
    "kernelspec": {
      "name": "python3",
      "display_name": "Python 3"
    },
    "language_info": {
      "name": "python"
    }
  },
  "cells": [
    {
      "cell_type": "markdown",
      "metadata": {
        "id": "view-in-github",
        "colab_type": "text"
      },
      "source": [
        "<a href=\"https://colab.research.google.com/github/tungnhitran/Anomaly-Detection-in-Smart-Manufacturing/blob/main/UNet.ipynb\" target=\"_parent\"><img src=\"https://colab.research.google.com/assets/colab-badge.svg\" alt=\"Open In Colab\"/></a>"
      ]
    },
    {
      "cell_type": "code",
      "source": [
        "import torch\n",
        "import torch.nn as nn\n",
        "import torchvision.transforms.functional as F\n"
      ],
      "metadata": {
        "id": "1u9uCKRiJcOi"
      },
      "execution_count": 19,
      "outputs": []
    },
    {
      "cell_type": "code",
      "source": [
        "class Encoder_block(nn.Module):\n",
        "    def __init__(self, in_channels, out_channels, kernel_size):\n",
        "      super(Encoder_block, self).__init__()\n",
        "      self.application=nn.Sequential(\n",
        "          nn.Conv2d(in_channels, out_channels, kernel_size, padding='same'),\n",
        "          nn.ReLU(inplace=True),\n",
        "          nn.Conv2d(out_channels, out_channels, kernel_size, padding='same'),\n",
        "          nn.ReLU(inplace=True)\n",
        "      )\n",
        "    def forward(self, x):\n",
        "      return self.application(x)"
      ],
      "metadata": {
        "id": "kq44AmEhJ5SA"
      },
      "execution_count": 20,
      "outputs": []
    },
    {
      "cell_type": "code",
      "execution_count": 21,
      "metadata": {
        "id": "YEclsqx0_2NQ"
      },
      "outputs": [],
      "source": [
        "class UNet(nn.Module):\n",
        "    def __init__(self, in_channels=1, out_channels=2):\n",
        "        super(UNet, self).__init__()\n",
        "        # Contracting path\n",
        "        self.down_b1 = Encoder_block(in_channels, out_channels=64, kernel_size=3)\n",
        "        self.down_b2 = Encoder_block(64, 128, 3)\n",
        "        self.down_b3 = Encoder_block(128, 256, 3)\n",
        "        self.down_b4 = Encoder_block(256, 512, 3)\n",
        "        self.down_b5 = Encoder_block(512, 1024, 3)\n",
        "        self.pooling = nn.MaxPool2d(kernel_size=2, stride=2)\n",
        "\n",
        "        # Expansive path\n",
        "        self.up_deconv1 = nn.ConvTranspose2d(1024, 512, kernel_size=2, stride=2)\n",
        "        self.up_deconv2 = nn.ConvTranspose2d(512, 256, kernel_size=2, stride=2)\n",
        "        self.up_deconv3 = nn.ConvTranspose2d(256, 128, kernel_size=2, stride=2)\n",
        "        self.up_deconv4 = nn.ConvTranspose2d(128, 64, kernel_size=2, stride=2)\n",
        "\n",
        "        self.up_b1 = Encoder_block(1024, 512, 3)\n",
        "        self.up_b2 = Encoder_block(512, 256, 3)\n",
        "        self.up_b3 = Encoder_block(256, 128, 3)\n",
        "        self.up_b4 = Encoder_block(128, 64, 3)\n",
        "\n",
        "        self.out = nn.Conv2d(64, out_channels, kernel_size=1, padding='same')\n",
        "\n",
        "    def forward(self, x):\n",
        "        save_size = []\n",
        "        # Contracting path\n",
        "        x = self.down_b1(x)\n",
        "        save_size.append(x)\n",
        "        x = self.pooling(x)\n",
        "\n",
        "        x = self.down_b2(x)\n",
        "        save_size.append(x)\n",
        "        x = self.pooling(x)\n",
        "\n",
        "        x = self.down_b3(x)\n",
        "        save_size.append(x)\n",
        "        x = self.pooling(x)\n",
        "\n",
        "        x = self.down_b4(x)\n",
        "        save_size.append(x)\n",
        "        x = self.pooling(x)\n",
        "\n",
        "        x = self.down_b5(x)\n",
        "        # Expansive path\n",
        "        x = self.up_deconv1(x)\n",
        "        y = save_size.pop()\n",
        "        x = F.resize(x, size=y.size()[2:])\n",
        "        y_new = torch.cat((y, x), dim=1)\n",
        "        x = self.up_b1(y_new)\n",
        "\n",
        "        x = self.up_deconv2(x)\n",
        "        y = save_size.pop()\n",
        "        x = F.resize(x, size=y.size()[2:])\n",
        "        y_new = torch.cat((y, x), dim=1)\n",
        "        x = self.up_b2(y_new)\n",
        "\n",
        "        x = self.up_deconv3(x)\n",
        "        y = save_size.pop()\n",
        "        x = F.resize(x, size=y.size()[2:])\n",
        "        y_new = torch.cat((y, x), dim=1)\n",
        "        x = self.up_b3(y_new)\n",
        "\n",
        "        x = self.up_deconv4(x)\n",
        "        y = save_size.pop()\n",
        "        x = F.resize(x, size=y.size()[2:])\n",
        "        y_new = torch.cat((y, x), dim=1)\n",
        "        x = self.up_b4(y_new)\n",
        "\n",
        "        x = self.out(x)\n",
        "        return x\n",
        "\n",
        "\n"
      ]
    },
    {
      "cell_type": "code",
      "source": [
        "from torchsummary import summary\n",
        "model = UNet()\n",
        "summary(model, (1, 572, 572))"
      ],
      "metadata": {
        "colab": {
          "base_uri": "https://localhost:8080/"
        },
        "id": "w4nVzR_oJaga",
        "outputId": "41092814-2d3c-41d9-bda4-738622b4b98b"
      },
      "execution_count": 22,
      "outputs": [
        {
          "output_type": "stream",
          "name": "stdout",
          "text": [
            "----------------------------------------------------------------\n",
            "        Layer (type)               Output Shape         Param #\n",
            "================================================================\n",
            "            Conv2d-1         [-1, 64, 572, 572]             640\n",
            "              ReLU-2         [-1, 64, 572, 572]               0\n",
            "            Conv2d-3         [-1, 64, 572, 572]          36,928\n",
            "              ReLU-4         [-1, 64, 572, 572]               0\n",
            "     Encoder_block-5         [-1, 64, 572, 572]               0\n",
            "         MaxPool2d-6         [-1, 64, 286, 286]               0\n",
            "            Conv2d-7        [-1, 128, 286, 286]          73,856\n",
            "              ReLU-8        [-1, 128, 286, 286]               0\n",
            "            Conv2d-9        [-1, 128, 286, 286]         147,584\n",
            "             ReLU-10        [-1, 128, 286, 286]               0\n",
            "    Encoder_block-11        [-1, 128, 286, 286]               0\n",
            "        MaxPool2d-12        [-1, 128, 143, 143]               0\n",
            "           Conv2d-13        [-1, 256, 143, 143]         295,168\n",
            "             ReLU-14        [-1, 256, 143, 143]               0\n",
            "           Conv2d-15        [-1, 256, 143, 143]         590,080\n",
            "             ReLU-16        [-1, 256, 143, 143]               0\n",
            "    Encoder_block-17        [-1, 256, 143, 143]               0\n",
            "        MaxPool2d-18          [-1, 256, 71, 71]               0\n",
            "           Conv2d-19          [-1, 512, 71, 71]       1,180,160\n",
            "             ReLU-20          [-1, 512, 71, 71]               0\n",
            "           Conv2d-21          [-1, 512, 71, 71]       2,359,808\n",
            "             ReLU-22          [-1, 512, 71, 71]               0\n",
            "    Encoder_block-23          [-1, 512, 71, 71]               0\n",
            "        MaxPool2d-24          [-1, 512, 35, 35]               0\n",
            "           Conv2d-25         [-1, 1024, 35, 35]       4,719,616\n",
            "             ReLU-26         [-1, 1024, 35, 35]               0\n",
            "           Conv2d-27         [-1, 1024, 35, 35]       9,438,208\n",
            "             ReLU-28         [-1, 1024, 35, 35]               0\n",
            "    Encoder_block-29         [-1, 1024, 35, 35]               0\n",
            "  ConvTranspose2d-30          [-1, 512, 70, 70]       2,097,664\n",
            "           Conv2d-31          [-1, 512, 71, 71]       4,719,104\n",
            "             ReLU-32          [-1, 512, 71, 71]               0\n",
            "           Conv2d-33          [-1, 512, 71, 71]       2,359,808\n",
            "             ReLU-34          [-1, 512, 71, 71]               0\n",
            "    Encoder_block-35          [-1, 512, 71, 71]               0\n",
            "  ConvTranspose2d-36        [-1, 256, 142, 142]         524,544\n",
            "           Conv2d-37        [-1, 256, 143, 143]       1,179,904\n",
            "             ReLU-38        [-1, 256, 143, 143]               0\n",
            "           Conv2d-39        [-1, 256, 143, 143]         590,080\n",
            "             ReLU-40        [-1, 256, 143, 143]               0\n",
            "    Encoder_block-41        [-1, 256, 143, 143]               0\n",
            "  ConvTranspose2d-42        [-1, 128, 286, 286]         131,200\n",
            "           Conv2d-43        [-1, 128, 286, 286]         295,040\n",
            "             ReLU-44        [-1, 128, 286, 286]               0\n",
            "           Conv2d-45        [-1, 128, 286, 286]         147,584\n",
            "             ReLU-46        [-1, 128, 286, 286]               0\n",
            "    Encoder_block-47        [-1, 128, 286, 286]               0\n",
            "  ConvTranspose2d-48         [-1, 64, 572, 572]          32,832\n",
            "           Conv2d-49         [-1, 64, 572, 572]          73,792\n",
            "             ReLU-50         [-1, 64, 572, 572]               0\n",
            "           Conv2d-51         [-1, 64, 572, 572]          36,928\n",
            "             ReLU-52         [-1, 64, 572, 572]               0\n",
            "    Encoder_block-53         [-1, 64, 572, 572]               0\n",
            "           Conv2d-54          [-1, 2, 572, 572]             130\n",
            "================================================================\n",
            "Total params: 31,030,658\n",
            "Trainable params: 31,030,658\n",
            "Non-trainable params: 0\n",
            "----------------------------------------------------------------\n",
            "Input size (MB): 1.25\n",
            "Forward/backward pass size (MB): 3418.22\n",
            "Params size (MB): 118.37\n",
            "Estimated Total Size (MB): 3537.84\n",
            "----------------------------------------------------------------\n"
          ]
        }
      ]
    }
  ]
}